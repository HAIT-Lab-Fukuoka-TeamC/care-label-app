{
 "cells": [
  {
   "cell_type": "code",
   "execution_count": 1,
   "metadata": {
    "collapsed": false
   },
   "outputs": [
    {
     "name": "stderr",
     "output_type": "stream",
     "text": [
      "Using TensorFlow backend.\n"
     ]
    }
   ],
   "source": [
    "# coding:utf-8\n",
    "\n",
    "import keras\n",
    "from keras.utils import np_utils\n",
    "from keras.models import Sequential\n",
    "from keras.layers.convolutional import Conv2D, MaxPooling2D\n",
    "from keras.layers.core import Dense, Dropout, Activation, Flatten\n",
    "import numpy as np\n",
    "from sklearn.model_selection import train_test_split\n",
    "from PIL import Image\n",
    "import glob"
   ]
  },
  {
   "cell_type": "code",
   "execution_count": 2,
   "metadata": {
    "collapsed": false
   },
   "outputs": [
    {
     "name": "stdout",
     "output_type": "stream",
     "text": [
      "dir_name : 95\n",
      "dir_name : 50\n",
      "dir_name : hanging_dry\n",
      "dir_name : not_bleachable\n",
      "dir_name : wetcleaning_weak\n",
      "dir_name : 60\n",
      "dir_name : wetcleaning_ok\n",
      "dir_name : donot_drycleaning\n",
      "dir_name : weetcleaning_very_weak\n",
      "dir_name : 30_very_weak\n",
      "dir_name : 40_very_weak\n",
      "dir_name : ironing_upto200\n",
      "dir_name : not_washable\n",
      "dir_name : donot_wetcleaning\n",
      "dir_name : drycleaning_F\n",
      "dir_name : bleachable\n",
      "dir_name : flat_dry_shade\n",
      "dir_name : drycleaning_F_weak\n",
      "dir_name : flat_dry_wet\n",
      "dir_name : drycleaning_P_weak\n",
      "dir_name : tumble_dry_upto60\n",
      "dir_name : ironing_upto150\n",
      "dir_name : donot_tumble_dry\n",
      "dir_name : 30\n",
      "dir_name : hanging_dry_wet\n",
      "dir_name : flat_dry_wetshade\n",
      "dir_name : 40_weak\n",
      "dir_name : donot_ironing\n",
      "dir_name : flat_dry\n",
      "dir_name : 60_weak\n",
      "dir_name : hanging_dry_shade\n",
      "dir_name : bleachable_oxygen\n",
      "dir_name : 30_weak\n",
      "dir_name : drycleaning_P\n",
      "dir_name : hand-wash\n",
      "dir_name : 70\n",
      "dir_name : hanging_dry_wetshade\n",
      "dir_name : tumble_dry_upto80\n",
      "dir_name : 40\n",
      "dir_name : 50_weak\n",
      "dir_name : ironing_upto110\n"
     ]
    },
    {
     "data": {
      "text/plain": [
       "['95',\n",
       " '50',\n",
       " 'hanging_dry',\n",
       " 'not_bleachable',\n",
       " 'wetcleaning_weak',\n",
       " '60',\n",
       " 'wetcleaning_ok',\n",
       " 'donot_drycleaning',\n",
       " 'weetcleaning_very_weak',\n",
       " '30_very_weak',\n",
       " '40_very_weak',\n",
       " 'ironing_upto200',\n",
       " 'not_washable',\n",
       " 'donot_wetcleaning',\n",
       " 'drycleaning_F',\n",
       " 'bleachable',\n",
       " 'flat_dry_shade',\n",
       " 'drycleaning_F_weak',\n",
       " 'flat_dry_wet',\n",
       " 'drycleaning_P_weak',\n",
       " 'tumble_dry_upto60',\n",
       " 'ironing_upto150',\n",
       " 'donot_tumble_dry',\n",
       " '30',\n",
       " 'hanging_dry_wet',\n",
       " 'flat_dry_wetshade',\n",
       " '40_weak',\n",
       " 'donot_ironing',\n",
       " 'flat_dry',\n",
       " '60_weak',\n",
       " 'hanging_dry_shade',\n",
       " 'bleachable_oxygen',\n",
       " '30_weak',\n",
       " 'drycleaning_P',\n",
       " 'hand-wash',\n",
       " '70',\n",
       " 'hanging_dry_wetshade',\n",
       " 'tumble_dry_upto80',\n",
       " '40',\n",
       " '50_weak',\n",
       " 'ironing_upto110']"
      ]
     },
     "execution_count": 2,
     "metadata": {},
     "output_type": "execute_result"
    }
   ],
   "source": [
    "folder = []\n",
    "files = glob.glob(\"./pre-all/train-seeds/**\", recursive=True)\n",
    "del files[0]\n",
    "end_list = ['.png', '.jpg', '.jpeg']\n",
    "for i, f in enumerate(files):\n",
    "    flag = 0\n",
    "    for e in end_list:\n",
    "        if e in f:\n",
    "            flag = 1\n",
    "            break\n",
    "            \n",
    "    if flag == 0:\n",
    "        dir_name = f.split('/')[-1]\n",
    "        print('dir_name : ' + dir_name)\n",
    "        folder.append(dir_name)\n",
    "    \n",
    "folder"
   ]
  },
  {
   "cell_type": "code",
   "execution_count": 3,
   "metadata": {
    "collapsed": true
   },
   "outputs": [],
   "source": [
    "#folder = [\"40_weak\",\"donot_tumble_dry\",\"ironing_upto150\",\"not_bleachable\"]\n",
    "image_size = 50\n",
    "\n",
    "X = []\n",
    "Y = []\n",
    "for index, name in enumerate(folder):\n",
    "    dir = \"./pre-all/train/\" + name\n",
    "    files = glob.glob(dir + \"/*.png\")\n",
    "    for i, file in enumerate(files):\n",
    "        image = Image.open(file)\n",
    "        image = image.convert(\"RGB\")\n",
    "        image = image.resize((image_size, image_size))\n",
    "        data = np.asarray(image)\n",
    "        X.append(data)\n",
    "        Y.append(index)\n",
    "\n",
    "X = np.array(X)\n",
    "Y = np.array(Y)"
   ]
  },
  {
   "cell_type": "code",
   "execution_count": 4,
   "metadata": {
    "collapsed": false
   },
   "outputs": [
    {
     "data": {
      "text/plain": [
       "(13334, 50, 50, 3)"
      ]
     },
     "execution_count": 4,
     "metadata": {},
     "output_type": "execute_result"
    }
   ],
   "source": [
    "X = X.astype('float32')\n",
    "X = X / 255.0\n",
    "X.shape"
   ]
  },
  {
   "cell_type": "code",
   "execution_count": 5,
   "metadata": {
    "collapsed": false
   },
   "outputs": [],
   "source": [
    "# 正解ラベルの形式を変換\n",
    "Y = np_utils.to_categorical(Y, len(folder))"
   ]
  },
  {
   "cell_type": "code",
   "execution_count": 6,
   "metadata": {
    "collapsed": true
   },
   "outputs": [],
   "source": [
    "# 学習用データとテストデータ\n",
    "X_train, X_test, y_train, y_test = train_test_split(X, Y, test_size=0.20)"
   ]
  },
  {
   "cell_type": "code",
   "execution_count": 9,
   "metadata": {
    "collapsed": true
   },
   "outputs": [],
   "source": [
    "# CNNを構築\n",
    "model = Sequential()\n",
    "\n",
    "model.add(Conv2D(32, (3, 3), padding='same',input_shape=X_train.shape[1:]))\n",
    "model.add(Activation('relu'))\n",
    "model.add(Conv2D(32, (3, 3)))\n",
    "model.add(Activation('relu'))\n",
    "model.add(MaxPooling2D(pool_size=(2, 2)))\n",
    "model.add(Dropout(0.25))\n",
    "\n",
    "# model.add(Conv2D(64, (3, 3), padding='same'))\n",
    "# model.add(Activation('relu'))\n",
    "# model.add(Conv2D(64, (3, 3)))\n",
    "# model.add(Activation('relu'))\n",
    "# model.add(MaxPooling2D(pool_size=(2, 2)))\n",
    "# model.add(Dropout(0.25))\n",
    "\n",
    "model.add(Flatten())\n",
    "model.add(Dense(512))\n",
    "model.add(Activation('relu'))\n",
    "model.add(Dropout(0.5))\n",
    "model.add(Dense(len(folder)))\n",
    "model.add(Activation('softmax'))\n",
    "\n",
    "# コンパイル\n",
    "model.compile(loss='categorical_crossentropy',optimizer='SGD',metrics=['accuracy'])"
   ]
  },
  {
   "cell_type": "code",
   "execution_count": 11,
   "metadata": {
    "collapsed": false,
    "scrolled": true
   },
   "outputs": [
    {
     "name": "stdout",
     "output_type": "stream",
     "text": [
      "Train on 10667 samples, validate on 2667 samples\n",
      "Epoch 1/1\n",
      "10667/10667 [==============================] - 1763s 165ms/step - loss: 2.7226 - acc: 0.2870 - val_loss: 0.8300 - val_acc: 0.8196\n"
     ]
    }
   ],
   "source": [
    "#訓練\n",
    "history = model.fit(X_train, y_train, epochs=1, validation_data=(X_test, y_test))"
   ]
  },
  {
   "cell_type": "code",
   "execution_count": 12,
   "metadata": {
    "collapsed": false
   },
   "outputs": [
    {
     "name": "stdout",
     "output_type": "stream",
     "text": [
      "2667/2667 [==============================] - 116s 44ms/step\n",
      "[0.8299775698634628, 0.8196475441687376]\n"
     ]
    }
   ],
   "source": [
    "#評価 & 評価結果出力\n",
    "print(model.evaluate(X_test, y_test))\n"
   ]
  },
  {
   "cell_type": "code",
   "execution_count": 13,
   "metadata": {
    "collapsed": true
   },
   "outputs": [],
   "source": [
    "# モデルの保存\n",
    "open('and_small.json',\"w\").write(model.to_json())\n",
    "\n",
    "# 学習済みの重みを保存\n",
    "model.save_weights('and_small_weight.hdf5')"
   ]
  },
  {
   "cell_type": "code",
   "execution_count": 14,
   "metadata": {
    "collapsed": false,
    "scrolled": true
   },
   "outputs": [
    {
     "data": {
      "image/png": "[encoded data removed]",
      "text/plain": [
       "<Figure size 600x400 with 1 Axes>"
      ]
     },
     "metadata": {},
     "output_type": "display_data"
    },
    {
     "data": {
      "image/png": "[encoded data removed]",
      "text/plain": [
       "<Figure size 600x400 with 1 Axes>"
      ]
     },
     "metadata": {},
     "output_type": "display_data"
    }
   ],
   "source": [
    "import matplotlib.pyplot as plt\n",
    "\n",
    "%matplotlib inline\n",
    "\n",
    "def plot_history(history):\n",
    "    # 精度の履歴をプロット\n",
    "    plt.plot(history.history['acc'],\"o-\",label=\"accuracy\")\n",
    "    plt.plot(history.history['val_acc'],\"o-\",label=\"val_acc\")\n",
    "    plt.title('model accuracy')\n",
    "    plt.xlabel('epoch')\n",
    "    plt.ylabel('accuracy')\n",
    "    plt.legend(loc=\"lower right\")\n",
    "    plt.show()\n",
    "\n",
    "    # 損失の履歴をプロット\n",
    "    plt.plot(history.history['loss'],\"o-\",label=\"loss\",)\n",
    "    plt.plot(history.history['val_loss'],\"o-\",label=\"val_loss\")\n",
    "    plt.title('model loss')\n",
    "    plt.xlabel('epoch')\n",
    "    plt.ylabel('loss')\n",
    "    plt.legend(loc='lower right')\n",
    "    plt.show()\n",
    "\n",
    "plot_history(history)"
   ]
  },
  {
   "cell_type": "code",
   "execution_count": null,
   "metadata": {
    "collapsed": true
   },
   "outputs": [],
   "source": []
  }
 ],
 "metadata": {
  "kernelspec": {
   "display_name": "Python [Root]",
   "language": "python",
   "name": "Python [Root]"
  },
  "language_info": {
   "codemirror_mode": {
    "name": "ipython",
    "version": 3
   },
   "file_extension": ".py",
   "mimetype": "text/x-python",
   "name": "python",
   "nbconvert_exporter": "python",
   "pygments_lexer": "ipython3",
   "version": "3.5.2"
  }
 },
 "nbformat": 4,
 "nbformat_minor": 2
}
