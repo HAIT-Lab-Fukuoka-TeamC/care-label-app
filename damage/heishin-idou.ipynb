{
 "cells": [
  {
   "cell_type": "code",
   "execution_count": 2,
   "metadata": {},
   "outputs": [],
   "source": [
    "import cv2\n",
    "import numpy as np\n",
    "import matplotlib.pyplot as plt\n",
    "\n",
    "%matplotlib inline"
   ]
  },
  {
   "cell_type": "code",
   "execution_count": 3,
   "metadata": {},
   "outputs": [],
   "source": [
    "img = cv2.imread('../images/whites/no-white.png')"
   ]
  },
  {
   "cell_type": "code",
   "execution_count": 4,
   "metadata": {},
   "outputs": [
    {
     "data": {
      "text/plain": [
       "<matplotlib.image.AxesImage at 0x7fc71eb3e6d8>"
      ]
     },
     "execution_count": 4,
     "metadata": {},
     "output_type": "execute_result"
    },
    {
     "data": {
      "image/png": "[encoded data removed]",
      "text/plain": [
       "<Figure size 432x288 with 1 Axes>"
      ]
     },
     "metadata": {
      "needs_background": "light"
     },
     "output_type": "display_data"
    }
   ],
   "source": [
    "plt.imshow(img)"
   ]
  },
  {
   "cell_type": "code",
   "execution_count": 11,
   "metadata": {},
   "outputs": [],
   "source": [
    "# 変換後の画像のサイズを指定\n",
    "rows, cols, channnels = img.shape\n",
    "for i in range(1, 6):\n",
    "    # 変換行列\n",
    "    M = np.float32([[1,0,i],[0,1,0]])\n",
    "    # 並進移動の実行\n",
    "    moved = cv2.warpAffine(img, M, (cols, rows),borderValue=(255, 255, 255))\n",
    "    \n",
    "    \n",
    "    save_img = cv2.cvtColor(moved, cv2.COLOR_RGB2BGR)\n",
    "    cv2.imwrite(f'../images/whites/right_{str(i)}.png', save_img)\n",
    "    "
   ]
  },
  {
   "cell_type": "code",
   "execution_count": 13,
   "metadata": {},
   "outputs": [],
   "source": [
    "for i in range(1, 6):\n",
    "    # 変換行列\n",
    "    M = np.float32([[1,0,-i],[0,1,0]])\n",
    "    # 並進移動の実行\n",
    "    moved = cv2.warpAffine(img, M, (cols, rows),borderValue=(255, 255, 255))\n",
    "    \n",
    "    \n",
    "    save_img = cv2.cvtColor(moved, cv2.COLOR_RGB2BGR)\n",
    "    cv2.imwrite(f'../images/whites/left_{str(i)}.png', save_img)\n",
    "    "
   ]
  },
  {
   "cell_type": "code",
   "execution_count": 18,
   "metadata": {},
   "outputs": [],
   "source": [
    "for i in range(1, 6):\n",
    "    # 変換行列\n",
    "    M = np.float32([[1,0,0],[0,1,i]])\n",
    "    # 並進移動の実行\n",
    "    moved = cv2.warpAffine(img, M, (cols, rows),borderValue=(255, 255, 255))\n",
    "    \n",
    "    \n",
    "    save_img = cv2.cvtColor(moved, cv2.COLOR_RGB2BGR)\n",
    "    cv2.imwrite(f'../images/whites/down_{str(i)}.png', save_img)\n",
    "    "
   ]
  },
  {
   "cell_type": "code",
   "execution_count": 19,
   "metadata": {},
   "outputs": [],
   "source": [
    "for i in range(1, 6):\n",
    "    # 変換行列\n",
    "    M = np.float32([[1,0,0],[0,1,-i]])\n",
    "    # 並進移動の実行\n",
    "    moved = cv2.warpAffine(img, M, (cols, rows),borderValue=(255, 255, 255))\n",
    "    \n",
    "    \n",
    "    save_img = cv2.cvtColor(moved, cv2.COLOR_RGB2BGR)\n",
    "    cv2.imwrite(f'../images/whites/up_{str(i)}.png', save_img)\n",
    "    "
   ]
  },
  {
   "cell_type": "code",
   "execution_count": 20,
   "metadata": {},
   "outputs": [],
   "source": [
    "for i in range(1, 6):\n",
    "    # 変換行列\n",
    "    M = np.float32([[1,0,-i],[0,1,-i]])\n",
    "    # 並進移動の実行\n",
    "    moved = cv2.warpAffine(img, M, (cols, rows),borderValue=(255, 255, 255))\n",
    "    \n",
    "    \n",
    "    save_img = cv2.cvtColor(moved, cv2.COLOR_RGB2BGR)\n",
    "    cv2.imwrite(f'../images/whites/leftup_{str(i)}.png', save_img)\n",
    "    "
   ]
  },
  {
   "cell_type": "code",
   "execution_count": null,
   "metadata": {},
   "outputs": [],
   "source": []
  }
 ],
 "metadata": {
  "kernelspec": {
   "display_name": "Python 3",
   "language": "python",
   "name": "python3"
  },
  "language_info": {
   "codemirror_mode": {
    "name": "ipython",
    "version": 3
   },
   "file_extension": ".py",
   "mimetype": "text/x-python",
   "name": "python",
   "nbconvert_exporter": "python",
   "pygments_lexer": "ipython3",
   "version": "3.7.3"
  }
 },
 "nbformat": 4,
 "nbformat_minor": 2
}
